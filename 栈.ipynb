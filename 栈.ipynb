{
 "cells": [
  {
   "attachments": {},
   "cell_type": "markdown",
   "metadata": {},
   "source": [
    "## 栈 \n",
    "栈是有序集合，添加操作和移除操作总发生在同一端，即“顶端”，另一端则被称为\"底端“。</br>\n",
    "栈中的元素离底端越近，代表其在栈中的时间越长。最新添加的元素将被最先移除，这种排序原则被称作**LIFO**（last-in-first-out)，即后进先出。他提供了一种基于在集合中的时间来排序的方式。最近添加的元素，靠近顶端，旧元素则靠近底端。</br>\n",
    "\n",
    "### 栈抽象数据类型\n",
    "* `Stack()`创建一个空栈，它不需要参数 \n",
    "* `push(item)`将一个元素添加到栈的顶端。他需要一个参数item，且无返回值。 \n",
    "* `pop()`将栈顶端的元素移除。它不需要参数，但会返回顶端的元素，并且修改栈的内容。 \n",
    "* `peek()`返回栈顶端的元素，但是并不移除该元素，不需要参数，也不会改变栈的内容 \n",
    "* `isEmpty()`检查栈是否为空，不需要参数，且会返回一个布尔值 \n",
    "* `size()`返回栈中元素的数目。他不需要参数，且会返回一个整数"
   ]
  },
  {
   "cell_type": "code",
   "execution_count": 30,
   "metadata": {},
   "outputs": [],
   "source": [
    "# 用 Python 实现栈 \n",
    "class Stack: \n",
    "    def __init__(self): \n",
    "        self.items = []\n",
    "\n",
    "    def isEmpty(self): \n",
    "        return self.items == [] \n",
    "\n",
    "    def push(self,item): \n",
    "        self.items.append(item)  \n",
    "\n",
    "    def pop(self): \n",
    "        return self.items.pop()\n",
    "\n",
    "    def peek(self): \n",
    "        return self.items[len(self.items)-1] \n",
    "\n",
    "    def size(self): \n",
    "        return len(self.items)\n"
   ]
  },
  {
   "cell_type": "code",
   "execution_count": 32,
   "metadata": {},
   "outputs": [
    {
     "data": {
      "text/plain": [
       "True"
      ]
     },
     "execution_count": 32,
     "metadata": {},
     "output_type": "execute_result"
    }
   ],
   "source": [
    "s = Stack() \n",
    "s.isEmpty()  "
   ]
  },
  {
   "cell_type": "code",
   "execution_count": 27,
   "metadata": {},
   "outputs": [],
   "source": [
    "s.push(4)"
   ]
  },
  {
   "cell_type": "code",
   "execution_count": 28,
   "metadata": {},
   "outputs": [],
   "source": [
    "s.push('dog') "
   ]
  },
  {
   "cell_type": "code",
   "execution_count": 24,
   "metadata": {},
   "outputs": [
    {
     "data": {
      "text/plain": [
       "'dog'"
      ]
     },
     "execution_count": 24,
     "metadata": {},
     "output_type": "execute_result"
    }
   ],
   "source": [
    "s.peek() "
   ]
  },
  {
   "cell_type": "code",
   "execution_count": 29,
   "metadata": {},
   "outputs": [
    {
     "data": {
      "text/plain": [
       "4"
      ]
     },
     "execution_count": 29,
     "metadata": {},
     "output_type": "execute_result"
    }
   ],
   "source": [
    "s.size() "
   ]
  },
  {
   "cell_type": "code",
   "execution_count": 14,
   "metadata": {},
   "outputs": [
    {
     "data": {
      "text/plain": [
       "'dog'"
      ]
     },
     "execution_count": 14,
     "metadata": {},
     "output_type": "execute_result"
    }
   ],
   "source": [
    "s.pop()"
   ]
  },
  {
   "cell_type": "code",
   "execution_count": null,
   "metadata": {},
   "outputs": [
    {
     "data": {
      "text/plain": [
       "1"
      ]
     },
     "execution_count": 15,
     "metadata": {},
     "output_type": "execute_result"
    }
   ],
   "source": [
    "s.size() "
   ]
  },
  {
   "attachments": {},
   "cell_type": "markdown",
   "metadata": {},
   "source": [
    "### 栈的运用 \n",
    "以下代码块可检测输入的括号是否匹配，若匹配则返回`True`, 若不匹配则返回`False`.  "
   ]
  },
  {
   "cell_type": "code",
   "execution_count": 2,
   "metadata": {},
   "outputs": [],
   "source": [
    "def isvalid(s): \n",
    "    dict_para = {'}':'{',')':'(',']':'['} \n",
    "    arr = []  \n",
    "\n",
    "    for i in s: \n",
    "        if i in dict_para.values(): \n",
    "            arr.append(i) \n",
    "        elif i in dict_para.keys(): \n",
    "            if arr and arr[-1] == dict_para[i]:\n",
    "                arr.pop() \n",
    "            else: \n",
    "                return False \n",
    "    return True \n"
   ]
  },
  {
   "cell_type": "code",
   "execution_count": null,
   "metadata": {},
   "outputs": [],
   "source": [
    " "
   ]
  },
  {
   "cell_type": "code",
   "execution_count": 7,
   "metadata": {},
   "outputs": [
    {
     "data": {
      "text/plain": [
       "[]"
      ]
     },
     "execution_count": 7,
     "metadata": {},
     "output_type": "execute_result"
    }
   ],
   "source": []
  },
  {
   "cell_type": "code",
   "execution_count": null,
   "metadata": {},
   "outputs": [],
   "source": []
  }
 ],
 "metadata": {
  "kernelspec": {
   "display_name": "base",
   "language": "python",
   "name": "python3"
  },
  "language_info": {
   "codemirror_mode": {
    "name": "ipython",
    "version": 3
   },
   "file_extension": ".py",
   "mimetype": "text/x-python",
   "name": "python",
   "nbconvert_exporter": "python",
   "pygments_lexer": "ipython3",
   "version": "3.7.7"
  },
  "orig_nbformat": 4,
  "vscode": {
   "interpreter": {
    "hash": "cd78fef2128015050713e82ca51c6520b11aee7c9ee8df750520bbbc7384cbaa"
   }
  }
 },
 "nbformat": 4,
 "nbformat_minor": 2
}
